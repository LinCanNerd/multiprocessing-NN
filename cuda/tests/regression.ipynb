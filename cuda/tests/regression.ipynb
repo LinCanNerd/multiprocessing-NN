{
 "cells": [
  {
   "cell_type": "code",
   "execution_count": 14,
   "metadata": {},
   "outputs": [
    {
     "name": "stdout",
     "output_type": "stream",
     "text": [
      "CUDA available: True\n"
     ]
    }
   ],
   "source": [
    "import torch\n",
    "import torch.nn as nn\n",
    "import torch.optim as optim\n",
    "import torch.nn.functional as F\n",
    "\n",
    "cuda_available = torch.cuda.is_available()\n",
    "print(\"CUDA available:\", cuda_available)\n"
   ]
  },
  {
   "cell_type": "code",
   "execution_count": 15,
   "metadata": {},
   "outputs": [],
   "source": [
    "class MLP(nn.Module):\n",
    "    def __init__(self, input_size, hidden_sizes, output_size, activation):\n",
    "        super(MLP, self).__init__()\n",
    "        self.input_size = input_size\n",
    "        self.hidden_sizes = hidden_sizes\n",
    "        self.output_size = output_size\n",
    "        self.activation = activation\n",
    "\n",
    "        self.fc_layers = nn.ModuleList()\n",
    "        prev_size = input_size\n",
    "        for hidden_size in hidden_sizes:\n",
    "            self.fc_layers.append(nn.Linear(prev_size, hidden_size))\n",
    "            prev_size = hidden_size\n",
    "\n",
    "        self.output_layer = nn.Linear(prev_size, output_size)\n",
    "\n",
    "    def forward(self, x):\n",
    "        x = x.view(-1, self.input_size)\n",
    "        for fc_layer in self.fc_layers:\n",
    "            x = self.activation(fc_layer(x))\n",
    "        x = self.output_layer(x)\n",
    "        return x"
   ]
  },
  {
   "cell_type": "code",
   "execution_count": 16,
   "metadata": {},
   "outputs": [
    {
     "name": "stdout",
     "output_type": "stream",
     "text": [
      "Input shape: (20, 3)\n",
      "Output shape: (20, 3)\n"
     ]
    }
   ],
   "source": [
    "from sklearn.datasets import load_linnerud\n",
    "\n",
    "linnerud = load_linnerud()\n",
    "X = linnerud.data\n",
    "y = linnerud.target\n",
    "\n",
    "\n",
    "# Print the shape of the input and output arrays\n",
    "print(\"Input shape:\", X.shape)\n",
    "print(\"Output shape:\", y.shape)\n",
    "# print(y[0])"
   ]
  },
  {
   "cell_type": "code",
   "execution_count": 17,
   "metadata": {},
   "outputs": [
    {
     "name": "stdout",
     "output_type": "stream",
     "text": [
      "Using GPU\n"
     ]
    },
    {
     "name": "stdout",
     "output_type": "stream",
     "text": [
      "Epoch 50/1000, Train Loss: 2907.9958, Test Loss: 1207.4757\n",
      "Epoch 100/1000, Train Loss: 2783.5312, Test Loss: 1359.6780\n",
      "Epoch 150/1000, Train Loss: 2755.6401, Test Loss: 1362.7412\n",
      "Epoch 200/1000, Train Loss: 2718.7529, Test Loss: 1364.8265\n",
      "Epoch 250/1000, Train Loss: 2666.4492, Test Loss: 1369.1882\n",
      "Epoch 300/1000, Train Loss: 2577.2070, Test Loss: 1367.3977\n",
      "Epoch 350/1000, Train Loss: 2367.6140, Test Loss: 1355.8112\n",
      "Epoch 400/1000, Train Loss: 1452.0508, Test Loss: 1307.1379\n",
      "Epoch 450/1000, Train Loss: 701.7020, Test Loss: 590.6973\n",
      "Epoch 500/1000, Train Loss: 215.7643, Test Loss: 609.0274\n",
      "Epoch 550/1000, Train Loss: 192.7612, Test Loss: 421.3122\n",
      "Epoch 600/1000, Train Loss: 176.8075, Test Loss: 387.9638\n",
      "Epoch 650/1000, Train Loss: 164.3175, Test Loss: 343.0928\n",
      "Epoch 700/1000, Train Loss: 153.4014, Test Loss: 295.8835\n",
      "Epoch 750/1000, Train Loss: 154.1211, Test Loss: 332.7675\n",
      "Epoch 800/1000, Train Loss: 131.1653, Test Loss: 224.8227\n",
      "Epoch 850/1000, Train Loss: 121.2389, Test Loss: 216.7153\n",
      "Epoch 900/1000, Train Loss: 109.6765, Test Loss: 187.3384\n",
      "Epoch 950/1000, Train Loss: 100.9478, Test Loss: 164.7600\n",
      "Epoch 1000/1000, Train Loss: 96.9543, Test Loss: 209.0226\n",
      "Time difference: 1.1626477241516113\n"
     ]
    }
   ],
   "source": [
    "from sklearn.model_selection import train_test_split\n",
    "import numpy as np\n",
    "import time\n",
    "\n",
    "if torch.cuda.is_available():\n",
    "    device = torch.device('cuda')\n",
    "    print('Using GPU')\n",
    "else:\n",
    "    device = torch.device('cpu')\n",
    "    print('Using CPU')\n",
    "\n",
    "# Split the data into train and test sets\n",
    "X_train, X_test, y_train, y_test = train_test_split(X, y, test_size=0.2, random_state=42)\n",
    "\n",
    "# Convert the data into PyTorch tensors and move them to the GPU\n",
    "X_train = torch.FloatTensor(X_train).to(device)\n",
    "X_test = torch.FloatTensor(X_test).to(device)\n",
    "y_train = torch.FloatTensor(y_train).to(device)\n",
    "y_test = torch.FloatTensor(y_test).to(device)\n",
    "\n",
    "# Define the model architecture and move it to the GPU\n",
    "input_size = X_train.shape[1]\n",
    "hidden_sizes = [128, 64, 128, 128]\n",
    "try:\n",
    "    output_size = y_train.shape[1]\n",
    "except IndexError:\n",
    "    output_size = 1\n",
    "model = MLP(input_size, hidden_sizes, output_size, F.relu).to(device)\n",
    "\n",
    "# Define the optimizer\n",
    "optimizer = optim.Adam(model.parameters(), lr=0.001)\n",
    "\n",
    "# Define the loss function\n",
    "criterion = nn.MSELoss()\n",
    "\n",
    "# Number of epochs\n",
    "n_epochs = 1000\n",
    "\n",
    "# Placeholder for losses\n",
    "train_losses = np.zeros(n_epochs)\n",
    "test_losses = np.zeros(n_epochs)\n",
    "\n",
    "# Get the current time before the for loop\n",
    "start_time = time.time()\n",
    "\n",
    "for it in range(n_epochs):\n",
    "    # zero the parameter gradients\n",
    "    optimizer.zero_grad()\n",
    "\n",
    "    # Forward pass\n",
    "    outputs = model(X_train)\n",
    "    loss = criterion(outputs, y_train)\n",
    "\n",
    "    # Backward and optimize\n",
    "    loss.backward()\n",
    "    optimizer.step()\n",
    "\n",
    "    # Save losses\n",
    "    train_losses[it] = loss.item()\n",
    "\n",
    "    # Test loss\n",
    "    test_outputs = model(X_test)\n",
    "    test_loss = criterion(test_outputs, y_test)\n",
    "    test_losses[it] = test_loss.item()\n",
    "\n",
    "    if (it + 1) % 50 == 0:\n",
    "        print(f'Epoch {it+1}/{n_epochs}, Train Loss: {loss.item():.4f}, Test Loss: {test_loss.item():.4f}')\n",
    "\n",
    "# Get the current time after the for loop\n",
    "end_time = time.time()\n",
    "\n",
    "# Calculate the time difference\n",
    "time_difference = end_time - start_time\n",
    "\n",
    "# Print the time difference\n",
    "print(\"Time difference:\", time_difference)\n"
   ]
  }
 ],
 "metadata": {
  "kernelspec": {
   "display_name": "Python 3",
   "language": "python",
   "name": "python3"
  },
  "language_info": {
   "codemirror_mode": {
    "name": "ipython",
    "version": 3
   },
   "file_extension": ".py",
   "mimetype": "text/x-python",
   "name": "python",
   "nbconvert_exporter": "python",
   "pygments_lexer": "ipython3",
   "version": "3.10.12"
  }
 },
 "nbformat": 4,
 "nbformat_minor": 2
}
