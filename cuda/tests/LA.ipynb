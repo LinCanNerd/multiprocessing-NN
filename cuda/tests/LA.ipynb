{
 "cells": [
  {
   "cell_type": "code",
   "execution_count": 2,
   "metadata": {},
   "outputs": [],
   "source": [
    "import numpy\n"
   ]
  },
  {
   "cell_type": "code",
   "execution_count": 3,
   "metadata": {},
   "outputs": [
    {
     "name": "stdout",
     "output_type": "stream",
     "text": [
      "[[6 3 7 4]\n",
      " [6 9 2 6]\n",
      " [7 4 3 7]\n",
      " [7 2 5 4]]\n"
     ]
    }
   ],
   "source": [
    "import numpy as np\n",
    "np.random.seed(42)\n",
    "\n",
    "matrix = np.random.randint(low=0, high=10, size=(4, 4))\n",
    "print(matrix)\n"
   ]
  },
  {
   "cell_type": "code",
   "execution_count": 4,
   "metadata": {},
   "outputs": [
    {
     "name": "stdout",
     "output_type": "stream",
     "text": [
      "Vector 1:\n",
      "[[1]\n",
      " [7]\n",
      " [5]\n",
      " [1]]\n",
      "Vector 2:\n",
      "[[4]\n",
      " [0]\n",
      " [9]\n",
      " [5]]\n"
     ]
    }
   ],
   "source": [
    "import numpy as np\n",
    "\n",
    "vector1 = np.random.randint(low=0, high=10, size=(4, 1))\n",
    "vector2 = np.random.randint(low=0, high=10, size=(4, 1))\n",
    "\n",
    "print(\"Vector 1:\")\n",
    "print(vector1)\n",
    "\n",
    "print(\"Vector 2:\")\n",
    "print(vector2)\n"
   ]
  },
  {
   "cell_type": "code",
   "execution_count": 5,
   "metadata": {},
   "outputs": [
    {
     "name": "stdout",
     "output_type": "stream",
     "text": [
      "Result 1:\n",
      "[[66]\n",
      " [85]\n",
      " [57]\n",
      " [50]]\n",
      "Result 2:\n",
      "[[107]\n",
      " [ 72]\n",
      " [ 90]\n",
      " [ 93]]\n"
     ]
    }
   ],
   "source": [
    "result1 = np.dot(matrix, vector1)\n",
    "result2 = np.dot(matrix, vector2)\n",
    "\n",
    "print(\"Result 1:\")\n",
    "print(result1)\n",
    "\n",
    "print(\"Result 2:\")\n",
    "print(result2)\n"
   ]
  },
  {
   "cell_type": "code",
   "execution_count": 6,
   "metadata": {},
   "outputs": [
    {
     "name": "stdout",
     "output_type": "stream",
     "text": [
      "Result:\n",
      "[[ 66 107]\n",
      " [ 85  72]\n",
      " [ 57  90]\n",
      " [ 50  93]]\n"
     ]
    }
   ],
   "source": [
    "concatenated_matrix = np.concatenate((vector1, vector2), axis=1)\n",
    "result = np.dot(matrix, concatenated_matrix)\n",
    "\n",
    "print(\"Result:\")\n",
    "print(result)\n"
   ]
  }
 ],
 "metadata": {
  "kernelspec": {
   "display_name": "Python 3",
   "language": "python",
   "name": "python3"
  },
  "language_info": {
   "codemirror_mode": {
    "name": "ipython",
    "version": 3
   },
   "file_extension": ".py",
   "mimetype": "text/x-python",
   "name": "python",
   "nbconvert_exporter": "python",
   "pygments_lexer": "ipython3",
   "version": "3.10.12"
  }
 },
 "nbformat": 4,
 "nbformat_minor": 2
}
