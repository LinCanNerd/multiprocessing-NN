{
 "cells": [
  {
   "cell_type": "code",
   "execution_count": 1,
   "metadata": {},
   "outputs": [],
   "source": [
    "import numpy\n"
   ]
  },
  {
   "cell_type": "code",
   "execution_count": 2,
   "metadata": {},
   "outputs": [
    {
     "name": "stdout",
     "output_type": "stream",
     "text": [
      "[[6 3 7 4]\n",
      " [6 9 2 6]\n",
      " [7 4 3 7]\n",
      " [7 2 5 4]]\n"
     ]
    }
   ],
   "source": [
    "import numpy as np\n",
    "np.random.seed(42)\n",
    "\n",
    "matrix = np.random.randint(low=0, high=10, size=(4, 4))\n",
    "print(matrix)\n"
   ]
  },
  {
   "cell_type": "code",
   "execution_count": 3,
   "metadata": {},
   "outputs": [
    {
     "name": "stdout",
     "output_type": "stream",
     "text": [
      "Vector 1:\n",
      "[[1]\n",
      " [7]\n",
      " [5]\n",
      " [1]]\n",
      "Vector 2:\n",
      "[[4]\n",
      " [0]\n",
      " [9]\n",
      " [5]]\n"
     ]
    }
   ],
   "source": [
    "import numpy as np\n",
    "\n",
    "vector1 = np.random.randint(low=0, high=10, size=(4, 1))\n",
    "vector2 = np.random.randint(low=0, high=10, size=(4, 1))\n",
    "\n",
    "print(\"Vector 1:\")\n",
    "print(vector1)\n",
    "\n",
    "print(\"Vector 2:\")\n",
    "print(vector2)\n"
   ]
  },
  {
   "cell_type": "code",
   "execution_count": 4,
   "metadata": {},
   "outputs": [
    {
     "name": "stdout",
     "output_type": "stream",
     "text": [
      "Result 1:\n",
      "[[66]\n",
      " [85]\n",
      " [57]\n",
      " [50]]\n",
      "Result 2:\n",
      "[[107]\n",
      " [ 72]\n",
      " [ 90]\n",
      " [ 93]]\n"
     ]
    }
   ],
   "source": [
    "result1 = np.dot(matrix, vector1)\n",
    "result2 = np.dot(matrix, vector2)\n",
    "\n",
    "print(\"Result 1:\")\n",
    "print(result1)\n",
    "\n",
    "print(\"Result 2:\")\n",
    "print(result2)\n"
   ]
  },
  {
   "cell_type": "code",
   "execution_count": 5,
   "metadata": {},
   "outputs": [
    {
     "name": "stdout",
     "output_type": "stream",
     "text": [
      "Result:\n",
      "[[ 66 107]\n",
      " [ 85  72]\n",
      " [ 57  90]\n",
      " [ 50  93]]\n"
     ]
    }
   ],
   "source": [
    "concatenated_matrix = np.concatenate((vector1, vector2), axis=1)\n",
    "result = np.dot(matrix, concatenated_matrix)\n",
    "\n",
    "print(\"Result:\")\n",
    "print(result)\n"
   ]
  },
  {
   "cell_type": "code",
   "execution_count": 18,
   "metadata": {},
   "outputs": [
    {
     "name": "stdout",
     "output_type": "stream",
     "text": [
      "\n",
      "(8, 4)\n",
      "[[-0.03666602 -0.24402482  0.41016873 -0.50255169]\n",
      " [-0.33949494 -0.13109631 -0.49263565 -0.18959583]\n",
      " [ 0.14294605  0.48194772  0.53438971  0.6455807 ]\n",
      " [ 0.48842331  0.36207885 -0.52498706 -0.19955421]\n",
      " [-0.04457022 -0.83421736  0.05674024 -0.12732834]\n",
      " [ 0.6042185   0.95580134  0.11201008 -0.35462722]\n",
      " [-0.91319843  0.84928666  0.83823143 -0.49401966]\n",
      " [ 0.39082225 -0.84913091 -0.66756914 -0.56638179]]\n",
      "(8, 2)\n",
      "[[-0.41101211  0.99166275]\n",
      " [ 0.39385011 -0.23159634]\n",
      " [ 0.47420141  0.83050868]\n",
      " [ 0.91740481 -0.8842722 ]\n",
      " [-0.2109564  -0.78648787]\n",
      " [-0.32867987 -0.66064019]\n",
      " [ 0.29369672 -0.22346323]\n",
      " [-0.54121051 -0.46812415]]\n",
      "(4, 2)\n",
      "first row of activation_1: [-0.03666602 -0.24402482  0.41016873 -0.50255169]\n",
      "first row of delta_2: [-0.41101211  0.99166275]\n",
      "outer product of first rows:\n",
      "[[ 0.01507018 -0.03636033]\n",
      " [ 0.10029716 -0.24199032]\n",
      " [-0.16858431  0.40674905]\n",
      " [ 0.20655483 -0.49836179]]\n"
     ]
    }
   ],
   "source": [
    "batch_size = 8\n",
    "layers = [4,2,4,2,1]\n",
    "#activations[layer][batchsize][j]\n",
    "activation_1 = np.random.uniform(low=-1, high=1, size=(batch_size, 4))\n",
    "delta_2 = np.random.uniform(low=-1, high=1, size=(batch_size, 2))\n",
    "\n",
    "print(f\"\")\n",
    "print(activation_1.shape)\n",
    "print(activation_1)\n",
    "print(delta_2.shape)\n",
    "print(delta_2)\n",
    "print((np.dot(activation_1.T,delta_2)).shape)\n",
    "\n",
    "print(f'first row of activation_1: {activation_1[0]}')\n",
    "print(f'first row of delta_2: {delta_2[0]}')\n",
    "print(f'outer product of first rows:\\n{np.outer(activation_1[0],delta_2[0])}')\n",
    "\n",
    "\n",
    "\n",
    "'''\n",
    "sample = 0\n",
    "j = 1\n",
    "k = 0\n",
    "\n",
    "activations_1[0][0] = -0.03666\n",
    "delta_2[0][1] = 0.999\n",
    "grad_weight[1][0] = 0.10029716\n",
    "'''\n",
    "\n",
    "import numpy as np\n",
    "\n",
    "# Example activations (a) and deltas (δ) matrices\n",
    "a = np.random.rand(8, 2) # replace with your actual activations matrix\n",
    "δ = np.random.rand(8, 4) # replace with your actual deltas matrix\n",
    "\n",
    "# Initialize an empty list to hold the gradients for each sample\n",
    "gradients = []\n",
    "\n",
    "# Compute the gradient for each sample\n",
    "for i in range(8):\n",
    "    # Compute the outer product of activations and deltas for the current sample\n",
    "    gradient = np.outer(a[i], δ[i])\n",
    "    # Add the gradient to our list of gradients\n",
    "    gradients.append(gradient)]\n",
    "\n",
    "# Stack the gradients to get a 3D matrix of shape (8, 2, 4)\n",
    "gradients_matrix = np.array(gradients)"
   ]
  },
  {
   "cell_type": "code",
   "execution_count": 24,
   "metadata": {},
   "outputs": [
    {
     "name": "stdout",
     "output_type": "stream",
     "text": [
      "weight by weight: \n",
      "[[ 0.01507018 -0.03636033]\n",
      " [ 0.10029716 -0.24199032]\n",
      " [-0.16858431  0.40674905]\n",
      " [ 0.20655483 -0.49836179]]\n",
      "by outer product: \n",
      "[[ 0.01507018 -0.03636033]\n",
      " [ 0.10029716 -0.24199032]\n",
      " [-0.16858431  0.40674905]\n",
      " [ 0.20655483 -0.49836179]]\n"
     ]
    }
   ],
   "source": [
    "import numpy as np\n",
    "\n",
    "array = np.zeros((4, 2))\n",
    "t = []\n",
    "for j in range(layers[0]):\n",
    "    for k in range(layers[1]):\n",
    "        a_minus1_k = activation_1[0][j]\n",
    "        d_j = delta_2[0][k]\n",
    "        array[j][k] = a_minus1_k * d_j\n",
    "\n",
    "print(f'weight by weight: \\n{array}')\n",
    "print(f'by outer product: \\n{np.outer(activation_1[0],delta_2[0])}')"
   ]
  },
  {
   "cell_type": "markdown",
   "metadata": {},
   "source": [
    "(8, 4)\n",
    "[[-0.03666602 -0.24402482  0.41016873 -0.50255169]\n",
    " [-0.33949494 -0.13109631 -0.49263565 -0.18959583]\n",
    " [ 0.14294605  0.48194772  0.53438971  0.6455807 ]\n",
    " [ 0.48842331  0.36207885 -0.52498706 -0.19955421]\n",
    " [-0.04457022 -0.83421736  0.05674024 -0.12732834]\n",
    " [ 0.6042185   0.95580134  0.11201008 -0.35462722]\n",
    " [-0.91319843  0.84928666  0.83823143 -0.49401966]\n",
    " [ 0.39082225 -0.84913091 -0.66756914 -0.56638179]]\n",
    "(8, 2)\n",
    "[[-0.41101211  0.99166275]\n",
    " [ 0.39385011 -0.23159634]\n",
    " [ 0.47420141  0.83050868]\n",
    " [ 0.91740481 -0.8842722 ]\n",
    " [-0.2109564  -0.78648787]\n",
    " [-0.32867987 -0.66064019]\n",
    " [ 0.29369672 -0.22346323]\n",
    " [-0.54121051 -0.46812415]]\n",
    "(4, 2)\n",
    "first row of activation_1: [-0.03666602 -0.24402482  0.41016873 -0.50255169]\n",
    "first row of delta_2: [-0.41101211  0.99166275]\n",
    "outer product of first rows:\n",
    "[[ 0.01507018 -0.03636033]\n",
    " [ 0.10029716 -0.24199032]\n",
    " [-0.16858431  0.40674905]\n",
    " [ 0.20655483 -0.49836179]]"
   ]
  },
  {
   "cell_type": "code",
   "execution_count": 27,
   "metadata": {},
   "outputs": [
    {
     "name": "stdout",
     "output_type": "stream",
     "text": [
      "(8, 4, 2)\n"
     ]
    }
   ],
   "source": [
    "gradients = np.einsum('ij,ik->ijk', activation_1, delta_2)\n",
    "# This einsum call specifies that for each i (which ranges over the rows of the matrices), you want to multiply activations[i, j] with deltas[i, k] to produce gradients[i, j, k], which is exactly the outer product of the vectors for each sample.\n",
    "print(gradients.shape)"
   ]
  },
  {
   "cell_type": "code",
   "execution_count": 50,
   "metadata": {},
   "outputs": [
    {
     "name": "stdout",
     "output_type": "stream",
     "text": [
      "Matrix 1:\n",
      "[[1 2 3]\n",
      " [4 5 6]\n",
      " [7 8 9]]\n",
      "Matrix 2:\n",
      "[[1 4 7]\n",
      " [2 5 8]\n",
      " [3 6 9]]\n",
      "Output Matrix:\n",
      "[[0. 0. 0.]\n",
      " [0. 0. 0.]\n",
      " [0. 0. 0.]]\n",
      "Output Matrix filled:\n",
      "[[ 48.  60.  72.]\n",
      " [ 60.  75.  90.]\n",
      " [ 72.  90. 108.]]\n",
      "[[ 1  8 21]\n",
      " [ 8 25 48]\n",
      " [21 48 81]]\n"
     ]
    }
   ],
   "source": [
    "import numpy as np\n",
    "\n",
    "\n",
    "matrix1 = np.arange(1, 10).reshape(3, 3)\n",
    "matrix2 = np.arange(1, 10).reshape(3, 3)\n",
    "matrix2 = matrix2.T\n",
    "print(\"Matrix 1:\")\n",
    "print(matrix1)\n",
    "\n",
    "print(\"Matrix 2:\")\n",
    "print(matrix2)\n",
    "\n",
    "matrix = np.zeros((3, 3))\n",
    "print(\"Output Matrix:\")\n",
    "print(matrix)\n",
    "\n",
    "for i in range(3):\n",
    "        row = matrix1[i, :]\n",
    "        column = matrix2[i, :]\n",
    "        \n",
    "        # print(row, column)\n",
    "        matrix += np.outer(row, column)\n",
    "\n",
    "print(\"Output Matrix filled:\")\n",
    "print(matrix)\n",
    "print(matrix1*matrix2)\n",
    "\n",
    "        \n"
   ]
  },
  {
   "cell_type": "code",
   "execution_count": 46,
   "metadata": {},
   "outputs": [
    {
     "name": "stdout",
     "output_type": "stream",
     "text": [
      "[[ 14  32  50]\n",
      " [ 32  77 122]\n",
      " [ 50 122 194]]\n"
     ]
    }
   ],
   "source": [
    "#wrong\n",
    "import numpy as np\n",
    "\n",
    "A = np.array([[1, 2, 3],\n",
    "              [4, 5, 6],\n",
    "              [7, 8, 9]])\n",
    "\n",
    "B = np.array([[1, 4, 7],\n",
    "              [2, 5, 8],\n",
    "              [3, 6, 9]])\n",
    "\n",
    "AB = np.dot(A, B)\n",
    "\n",
    "print(AB)\n"
   ]
  },
  {
   "cell_type": "code",
   "execution_count": null,
   "metadata": {},
   "outputs": [],
   "source": []
  }
 ],
 "metadata": {
  "kernelspec": {
   "display_name": "Python 3",
   "language": "python",
   "name": "python3"
  },
  "language_info": {
   "codemirror_mode": {
    "name": "ipython",
    "version": 3
   },
   "file_extension": ".py",
   "mimetype": "text/x-python",
   "name": "python",
   "nbconvert_exporter": "python",
   "pygments_lexer": "ipython3",
   "version": "3.10.12"
  }
 },
 "nbformat": 4,
 "nbformat_minor": 2
}
